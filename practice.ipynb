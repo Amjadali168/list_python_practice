{
 "cells": [
  {
   "cell_type": "code",
   "execution_count": null,
   "metadata": {},
   "outputs": [],
   "source": [
    "# Write a program that creates a list of integers and then finds the maximum value in the list. Print the maximum value.\n",
    "list = []\n",
    "n = int(input(\"Enter no of integer you want to add: \"))\n",
    "for i in range(n):\n",
    "    x = int(input(\"Enter an integer: \"))\n",
    "    list.append(x)\n",
    "    max_value = max(list)\n",
    "print(\"max value in the list is: \",max_value)"
   ]
  },
  {
   "cell_type": "code",
   "execution_count": null,
   "metadata": {},
   "outputs": [],
   "source": [
    "#Write a program that creates two lists of integers and then finds the common elements between those two lists. Print the common elements.\n",
    "list1 = [1,2,3,4,5,9]\n",
    "list2 = [2,9,0,5,8]\n",
    "common_element = set(list1).intersection(list2)\n",
    "print(common_element)"
   ]
  },
  {
   "cell_type": "code",
   "execution_count": null,
   "metadata": {},
   "outputs": [],
   "source": [
    "#Write a program that creates a list of strings and then removes all elements that contain a specific substring. Print the final list.\n",
    "list = ['apple','apendix','addition']\n"
   ]
  },
  {
   "cell_type": "code",
   "execution_count": null,
   "metadata": {},
   "outputs": [],
   "source": [
    "#Write a program that creates a list of strings and then finds the longest string in the list. Print the longest string.\n",
    "largest_string = \"\"\n",
    "strings = [\"amjad\",\"attribute\",\"alphabets\",\"anhvfttfdvjgdgfj\"]\n",
    "for string in strings:\n",
    "    if len(string) > len(largest_string):\n",
    "        largest_string = string\n",
    "print(largest_string, len(largest_string))"
   ]
  },
  {
   "cell_type": "code",
   "execution_count": null,
   "metadata": {},
   "outputs": [],
   "source": [
    "#Write a program that creates a list of integers and then finds the sum of all the even numbers in the list. Print the sum.\n",
    "list = []\n",
    "sum = 0\n",
    "n = int(input(\"enter no of element: \"))\n",
    "for i in range(n):\n",
    "    element = int(input(\"enter integers: \"))\n",
    "    if element % 2 == 0:\n",
    "        list.append(element)\n",
    "        sum += element\n",
    "print(\"list of all even number: \", list)\n",
    "print(\"sum of all even number: \",sum)\n"
   ]
  },
  {
   "cell_type": "code",
   "execution_count": null,
   "metadata": {},
   "outputs": [],
   "source": [
    "#Write a program that creates a list of integers and then asks the user to input a position to remove an element from the list. Print the final list.\n",
    "list = []\n",
    "n = int(input(\"enter no of element: \"))\n",
    "for i in range(n):\n",
    "    ele = int(input(\"Enter Elements: \"))\n",
    "    list.append(ele)\n",
    "print(\"current list: \", list)\n",
    "position = int(input(\"enter the position from element to be removed: \"))\n",
    "if position >= 0 and position < n:\n",
    "    removed_element = list.pop(position)\n",
    "    print(\"removed element: \",removed_element)\n",
    "else:\n",
    "    print(\"Invalid Position\")\n",
    "\n",
    "print(list)"
   ]
  },
  {
   "cell_type": "code",
   "execution_count": 4,
   "metadata": {},
   "outputs": [
    {
     "name": "stdout",
     "output_type": "stream",
     "text": [
      "abc\n"
     ]
    }
   ],
   "source": [
    "#Write a program that creates a list of strings and then concatenates all the strings into a single string. Print the final string.\n",
    "my_list = ['a', 'b', 'c']\n",
    "string = ''.join(my_list)\n",
    "print(string)\n"
   ]
  },
  {
   "cell_type": "code",
   "execution_count": null,
   "metadata": {},
   "outputs": [],
   "source": []
  }
 ],
 "metadata": {
  "kernelspec": {
   "display_name": "Python 3.11.4 ('base')",
   "language": "python",
   "name": "python3"
  },
  "language_info": {
   "codemirror_mode": {
    "name": "ipython",
    "version": 3
   },
   "file_extension": ".py",
   "mimetype": "text/x-python",
   "name": "python",
   "nbconvert_exporter": "python",
   "pygments_lexer": "ipython3",
   "version": "3.11.4"
  },
  "orig_nbformat": 4,
  "vscode": {
   "interpreter": {
    "hash": "4fd43f647e67c5bac92e28557b42152749fead6d7b9e8c70c84aca8e8e2f23dd"
   }
  }
 },
 "nbformat": 4,
 "nbformat_minor": 2
}
