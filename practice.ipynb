{
 "cells": [
  {
   "cell_type": "code",
   "execution_count": null,
   "metadata": {},
   "outputs": [],
   "source": [
    "# Write a program that creates a list of integers and then finds the maximum value in the list. Print the maximum value.\n",
    "list = []\n",
    "n = int(input(\"Enter no of integer you want to add: \"))\n",
    "for i in range(n):\n",
    "    x = int(input(\"Enter an integer: \"))\n",
    "    list.append(x)\n",
    "    max_value = max(list)\n",
    "print(\"max value in the list is: \",max_value)"
   ]
  },
  {
   "cell_type": "code",
   "execution_count": null,
   "metadata": {},
   "outputs": [],
   "source": [
    "#Write a program that creates two lists of integers and then finds the common elements between those two lists. Print the common elements.\n",
    "list1 = [1,2,3,4,5,9]\n",
    "list2 = [2,9,0,5,8]\n",
    "common_element = set(list1).intersection(list2)\n",
    "print(common_element)"
   ]
  },
  {
   "cell_type": "code",
   "execution_count": null,
   "metadata": {},
   "outputs": [],
   "source": [
    "#Write a program that creates a list of strings and then removes all elements that contain a specific substring. Print the final list.\n",
    "list = ['apple','apendix','addition']\n"
   ]
  },
  {
   "cell_type": "code",
   "execution_count": null,
   "metadata": {},
   "outputs": [],
   "source": [
    "#Write a program that creates a list of strings and then finds the longest string in the list. Print the longest string.\n",
    "largest_string = \"\"\n",
    "strings = [\"amjad\",\"attribute\",\"alphabets\",\"anhvfttfdvjgdgfj\"]\n",
    "for string in strings:\n",
    "    if len(string) > len(largest_string):\n",
    "        largest_string = string\n",
    "print(largest_string, len(largest_string))"
   ]
  },
  {
   "cell_type": "code",
   "execution_count": null,
   "metadata": {},
   "outputs": [],
   "source": [
    "#Write a program that creates a list of integers and then finds the sum of all the even numbers in the list. Print the sum.\n",
    "list = []\n",
    "sum = 0\n",
    "n = int(input(\"enter no of element: \"))\n",
    "for i in range(n):\n",
    "    element = int(input(\"enter integers: \"))\n",
    "    if element % 2 == 0:\n",
    "        list.append(element)\n",
    "        sum += element\n",
    "print(\"list of all even number: \", list)\n",
    "print(\"sum of all even number: \",sum)\n"
   ]
  },
  {
   "cell_type": "code",
   "execution_count": null,
   "metadata": {},
   "outputs": [],
   "source": [
    "#Write a program that creates a list of integers and then asks the user to input a position to remove an element from the list. Print the final list.\n",
    "list = []\n",
    "n = int(input(\"enter no of element: \"))\n",
    "for i in range(n):\n",
    "    ele = int(input(\"Enter Elements: \"))\n",
    "    list.append(ele)\n",
    "print(\"current list: \", list)\n",
    "position = int(input(\"enter the position from element to be removed: \"))\n",
    "if position >= 0 and position < n:\n",
    "    removed_element = list.pop(position)\n",
    "    print(\"removed element: \",removed_element)\n",
    "else:\n",
    "    print(\"Invalid Position\")\n",
    "\n",
    "print(list)"
   ]
  },
  {
   "cell_type": "code",
   "execution_count": null,
   "metadata": {},
   "outputs": [],
   "source": [
    "#Write a program that creates a list of strings and then concatenates all the strings into a single string. Print the final string.\n",
    "my_list = ['a', 'b', 'c']\n",
    "string = ''.join(my_list)\n",
    "print(string)\n"
   ]
  },
  {
   "cell_type": "code",
   "execution_count": null,
   "metadata": {},
   "outputs": [],
   "source": [
    "#Write a program that creates a list of integers and then finds the median value of the list. Print the median.\n",
    "my_list = []\n",
    "num = int(input(\"enter no of element: \"))\n",
    "for i in range(num):\n",
    "    ele = int(input(\"enter elements: \"))\n",
    "    my_list.append(ele)\n",
    "print(\"list: \",my_list)\n",
    "sorted_list = my_list.sort()\n",
    "n = len(my_list)\n",
    "if n % 2 == 1:\n",
    "    median = my_list[n//2]\n",
    "else:\n",
    "    middle1 = my_list[(n // 2) - 1]\n",
    "    middle2 = my_list[n // 2]\n",
    "    median = (middle1 + middle2) / 2\n",
    "print(\"Median:\", median)\n"
   ]
  },
  {
   "cell_type": "code",
   "execution_count": null,
   "metadata": {},
   "outputs": [],
   "source": [
    "#Write a program that creates a list of strings and then reverses the order of the strings in the list. Print the reversed list.\n",
    "list = ['amjad','ashraf','saif']\n",
    "reversed_string = list[::-1]\n",
    "print(reversed_string)"
   ]
  },
  {
   "cell_type": "code",
   "execution_count": null,
   "metadata": {},
   "outputs": [],
   "source": [
    "#Write a program that creates a list of integers and then calculates the average of all the numbers in the list. Print the average.\n",
    "my_list = [1,4,6,7,8,9]\n",
    "total_sum = sum(my_list)\n",
    "print(total_sum)\n",
    "average = total_sum / len(my_list)\n",
    "print(average)"
   ]
  },
  {
   "cell_type": "code",
   "execution_count": null,
   "metadata": {},
   "outputs": [],
   "source": [
    "#Write a program that creates a list of integers and then finds the index of a specific element in the list. Print the index.\n",
    "numbers = [1, 2, 3, 4, 5]\n",
    "find_index = int(input(\"enter the number whose index to be find: \"))\n",
    "for i in numbers:\n",
    "    ele = numbers.index(find_index)\n",
    "print(ele)"
   ]
  },
  {
   "cell_type": "code",
   "execution_count": null,
   "metadata": {},
   "outputs": [],
   "source": [
    "#Write a program that creates a list of strings and then removes all whitespace characters from each string in the list. Print the final list.\n",
    "my_list = ['li st','ma    c','b  o   o   k']\n",
    "cleaned_list = [s.replace(\" \", \"\") for s in my_list]\n",
    "print(cleaned_list)\n"
   ]
  },
  {
   "cell_type": "code",
   "execution_count": null,
   "metadata": {},
   "outputs": [],
   "source": [
    "#Write a program that creates a list of integers and then sorts the list in descending order. Print the sorted list.\n",
    "# numbers = [12, 45, 9, 18, 36]\n",
    "sorted_list = sorted(numbers, reverse=True)\n",
    "print(sorted_list)\n"
   ]
  },
  {
   "cell_type": "code",
   "execution_count": null,
   "metadata": {},
   "outputs": [],
   "source": [
    "x = 0\n",
    "while (x< 100):\n",
    "    x += 2\n",
    "print(x)"
   ]
  },
  {
   "cell_type": "code",
   "execution_count": null,
   "metadata": {},
   "outputs": [],
   "source": [
    "a = 5\n",
    "print(f'{a: 10}')"
   ]
  },
  {
   "cell_type": "code",
   "execution_count": null,
   "metadata": {},
   "outputs": [],
   "source": [
    "x = 2\n",
    "for i in range(x):\n",
    "    x += 1\n",
    "    print(x)"
   ]
  },
  {
   "cell_type": "code",
   "execution_count": null,
   "metadata": {},
   "outputs": [],
   "source": [
    "for i in range(2.0):\n",
    "    print(i)"
   ]
  },
  {
   "cell_type": "code",
   "execution_count": null,
   "metadata": {},
   "outputs": [],
   "source": [
    "i = 1\n",
    "while True:\n",
    "    if i % 3 == 0:\n",
    "        break\n",
    "    print(i)\n",
    "\n",
    "    i += 1"
   ]
  },
  {
   "cell_type": "code",
   "execution_count": null,
   "metadata": {},
   "outputs": [],
   "source": [
    "d = {0:'a', 1:'b', 2:'c'}\n",
    "for i in d:\n",
    "    print(i)"
   ]
  },
  {
   "cell_type": "code",
   "execution_count": null,
   "metadata": {},
   "outputs": [],
   "source": [
    "x = 'abcd'\n",
    "for i in x:\n",
    "    print(i.upper())"
   ]
  },
  {
   "cell_type": "code",
   "execution_count": null,
   "metadata": {},
   "outputs": [],
   "source": [
    "x = 'abcdef'\n",
    "while i in x:\n",
    "    print(i, end=\" \")"
   ]
  },
  {
   "cell_type": "code",
   "execution_count": null,
   "metadata": {},
   "outputs": [],
   "source": [
    "num = [12,34,1,10]\n",
    "sorted_num = sorted(num)\n",
    "print(sorted_num)\n",
    "sorted_num[::-1]"
   ]
  },
  {
   "cell_type": "code",
   "execution_count": null,
   "metadata": {},
   "outputs": [],
   "source": [
    "# Write a program that creates a list of integers and then asks the user to input a value to add to the list. Add the value to the beginning of the list and print the final list.\n",
    "my_list = []\n",
    "n = int(input(\"enter how many value you want to add: \"))\n",
    "for i in range(n):\n",
    "    value = int(input(\"enter integer: \"))\n",
    "    my_list.insert(0, value)\n",
    "print(my_list)"
   ]
  },
  {
   "cell_type": "code",
   "execution_count": null,
   "metadata": {},
   "outputs": [],
   "source": [
    "# Write a program that creates two lists of integers and then concatenates those two lists into a single list. Print the final list.\n",
    "list1 = [2, 3]\n",
    "list2 = [1,2,3,4,5]\n",
    "final_list = list1 + list2\n",
    "print(final_list)"
   ]
  },
  {
   "cell_type": "code",
   "execution_count": null,
   "metadata": {},
   "outputs": [],
   "source": [
    "# Write a program that uses the map function to create a new list that contains the squares of each element in a user inputted list of integers.\n"
   ]
  },
  {
   "cell_type": "code",
   "execution_count": null,
   "metadata": {},
   "outputs": [],
   "source": [
    "# Write a program that uses a lambda expression and the map function to convert a list of integers to a list of strings. Print the new list.\n",
    "integers = [1, 2, 3, 4, 5]\n",
    "strings = list(map(lambda x: str(x), integers))\n",
    "print(strings)\n",
    "print(type(strings))"
   ]
  },
  {
   "cell_type": "code",
   "execution_count": null,
   "metadata": {},
   "outputs": [],
   "source": [
    "# Write a program that uses a lambda expression and the map function to add 10 to each element in a list of integers. Print the new list.\n",
    "nums = [1,2,3,4,5]\n",
    "new_list = list(map(lambda x:x+10, nums))\n",
    "print(new_list)"
   ]
  },
  {
   "cell_type": "code",
   "execution_count": null,
   "metadata": {},
   "outputs": [],
   "source": [
    "# Write a program that uses the map function to create a new list that contains the first letter of each string in a user inputted list of strings.\n",
    "user_input = input(\"enter string: \")\n",
    "li_st = user_input.split()\n",
    "final_list = list(map(lambda x:x[0], li_st))\n",
    "print(final_list)"
   ]
  },
  {
   "cell_type": "code",
   "execution_count": null,
   "metadata": {},
   "outputs": [],
   "source": [
    "# Write a program that uses a lambda expression and the map function to convert a list of Celsius temperatures to a list of Fahrenheit temperatures. Print the new list.\n",
    "# Fahrenheit (°F) = (Celsius (°C) × 9/5) + 32\n",
    "temp = [32, 28, 48, 29]\n",
    "f_temp = list(map(lambda x:(x*9/5)+32, temp))\n",
    "print(f_temp)"
   ]
  },
  {
   "cell_type": "code",
   "execution_count": null,
   "metadata": {},
   "outputs": [],
   "source": [
    "# Write a program that uses a lambda expression and the map function to convert a list of strings to a list of integers. Print the new list.\n",
    "string_list = ['1','2','3','4']\n",
    "integer_list = list(map(lambda x:int(x), string_list))\n",
    "print(integer_list)"
   ]
  },
  {
   "cell_type": "code",
   "execution_count": null,
   "metadata": {},
   "outputs": [],
   "source": [
    "# Write a program that uses the map function to create a new list that contains the length of each string in a user inputted list of strings.\n",
    "user_string = input(\"enter string separated by spaces: \")\n",
    "user_string_list = user_string.split()\n",
    "new_list = list(map(len, user_string_list))\n",
    "print(new_list)"
   ]
  },
  {
   "cell_type": "code",
   "execution_count": null,
   "metadata": {},
   "outputs": [],
   "source": [
    "# Write a program that uses a lambda expression and the map function to calculate the square root of each element in a list of integers. Print the new list.\n",
    "numbers= [4,6,8,9]\n",
    "new_list = list(map(lambda x:x**1/2, numbers))\n",
    "print(new_list)"
   ]
  },
  {
   "cell_type": "code",
   "execution_count": null,
   "metadata": {},
   "outputs": [],
   "source": [
    "# Write a program that uses a lambda expression and the map function to convert a list of integers to their absolute values. Print the new list.\n",
    "int_list = [-5, 6, 0, -2, 5.3]\n",
    "new_list = list(map(lambda x: abs(x), int_list))\n",
    "print(new_list)"
   ]
  },
  {
   "cell_type": "code",
   "execution_count": null,
   "metadata": {},
   "outputs": [],
   "source": [
    "# Write a program that uses the map function to create a new list that contains the uppercase version of each string in a user inputted list of strings.\n",
    "def convert_to_uppercase(string):\n",
    "    return string.upper()\n",
    "input_list = input(\"Enter a list of strings separated by spaces: \").split()\n",
    "uppercase_list = list(map(convert_to_uppercase, input_list))\n",
    "print(\"Uppercase list:\", uppercase_list)\n"
   ]
  },
  {
   "cell_type": "code",
   "execution_count": null,
   "metadata": {},
   "outputs": [],
   "source": [
    "string1 = input(\"enter strngs: \").split()\n",
    "final_list = list(map(lambda x: x.upper(), string1))\n",
    "print(final_list)"
   ]
  },
  {
   "cell_type": "code",
   "execution_count": null,
   "metadata": {},
   "outputs": [],
   "source": [
    "# Write a program that uses the filter function to create a new list that contains only the even numbers from a user inputted list of integers.\n",
    "# input_num = int(input(\"enter number: \"))\n",
    "input_num = [1,2,3,4,5,6,7,8,9]\n",
    "new_list = list(filter(lambda x: x%2==0, input_num))\n",
    "print(new_list)"
   ]
  },
  {
   "cell_type": "code",
   "execution_count": null,
   "metadata": {},
   "outputs": [],
   "source": [
    "num = input(\"enter numbers: \").split()\n",
    "num = list(map(int, num))\n",
    "even_list = list(filter(lambda x: x % 2 == 0, num))\n",
    "print(even_list)\n"
   ]
  },
  {
   "cell_type": "code",
   "execution_count": null,
   "metadata": {},
   "outputs": [],
   "source": [
    "# Write a program that uses a lambda expression and the filter function to create a new list that contains only the strings that start with a vowel from a user inputted list of strings.\n",
    "inputed_list = input(\"enter string: \").split()\n",
    "vowels = ['a','e','i','o','u']\n",
    "list_a = list(filter(lambda x: x[0].isalpha(), inputed_list))\n",
    "print(list_a)"
   ]
  },
  {
   "cell_type": "code",
   "execution_count": null,
   "metadata": {},
   "outputs": [],
   "source": [
    "# for small letter and for capital letter isupper() is used\n",
    "inputed_list = input(\"enter string: \").split()\n",
    "vowels = ['a','e','i','o','u']\n",
    "list_a = list(filter(lambda x: x[0].islower() in vowels, inputed_list))\n",
    "print(list_a)"
   ]
  },
  {
   "cell_type": "code",
   "execution_count": null,
   "metadata": {},
   "outputs": [],
   "source": [
    "# Write a program that uses the filter function to create a new list that contains only the strings with a length greater than 5 from a user inputted list of strings.\n",
    "input_string = input(\"enter string: \").split()\n",
    "new_list = list(filter(lambda x: len(x)> 5, input_string))\n",
    "print(new_list)"
   ]
  },
  {
   "cell_type": "code",
   "execution_count": null,
   "metadata": {},
   "outputs": [],
   "source": [
    "# Write a program that uses a lambda expression and the filter function to create a new list that contains only the positive numbers from a user inputted list of integers.\n",
    "number = input(\"enter numbers: \").split()\n",
    "number = list(map(int, number))\n",
    "positive_num = list(filter(lambda x: x> 0, number))\n",
    "print(positive_num)"
   ]
  },
  {
   "cell_type": "code",
   "execution_count": null,
   "metadata": {},
   "outputs": [],
   "source": [
    "# Write a program that uses the filter function to create a new list that contains only the strings that contain the letter \"e\" from a user inputted list of strings.\n",
    "input_list = input(\"enter string: \").split()\n",
    "string_e = list(filter(lambda x: 'e' in x, input_list))\n",
    "print(string_e)"
   ]
  },
  {
   "cell_type": "code",
   "execution_count": null,
   "metadata": {},
   "outputs": [],
   "source": [
    "example = ['hello','world']\n",
    "for i in example:\n",
    "    print(i)"
   ]
  },
  {
   "cell_type": "code",
   "execution_count": null,
   "metadata": {},
   "outputs": [],
   "source": [
    "# Write a program that creates a nested list of strings from a user inputted list of strings. The resulting nested list should contain each string split into its individual characters.\n",
    "user_input = input(\"enter strings: \").split(',')\n",
    "nested_list = []\n",
    "for string in user_input:\n",
    "    char_list = list(string.strip())\n",
    "    nested_list.append(char_list)\n",
    "print(nested_list)"
   ]
  },
  {
   "cell_type": "code",
   "execution_count": null,
   "metadata": {},
   "outputs": [],
   "source": [
    "# Write a program that creates a nested list from two user inputted lists of integers. The resulting nested list should contain each element of the first list paired with the corresponding element of the second list.\n",
    "input_list1 = input(\"enter element of first list: \")\n",
    "input_list2 = input(\"enter element of second list: \")\n",
    "\n",
    "list1 = [int(x) for x in input_list1.split(',') ]\n",
    "list2 = [int(x) for x in input_list2.split(',')]\n",
    "nested_list = []\n",
    "for i in range(min(len(list1),len(list2))):\n",
    "    nested_list.append([list1[i],list2[i]])\n",
    "print(nested_list)"
   ]
  }
 ],
 "metadata": {
  "kernelspec": {
   "display_name": "Python 3.11.4 ('base')",
   "language": "python",
   "name": "python3"
  },
  "language_info": {
   "codemirror_mode": {
    "name": "ipython",
    "version": 3
   },
   "file_extension": ".py",
   "mimetype": "text/x-python",
   "name": "python",
   "nbconvert_exporter": "python",
   "pygments_lexer": "ipython3",
   "version": "3.11.4"
  },
  "orig_nbformat": 4,
  "vscode": {
   "interpreter": {
    "hash": "4fd43f647e67c5bac92e28557b42152749fead6d7b9e8c70c84aca8e8e2f23dd"
   }
  }
 },
 "nbformat": 4,
 "nbformat_minor": 2
}
