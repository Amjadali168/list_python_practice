{
 "cells": [
  {
   "cell_type": "code",
   "execution_count": 1,
   "metadata": {},
   "outputs": [
    {
     "name": "stdout",
     "output_type": "stream",
     "text": [
      "67\n"
     ]
    }
   ],
   "source": [
    "# Write a program that creates a list of integers and then finds the maximum value in the list. Print the maximum value.\n",
    "list = []\n",
    "n = int(input(\"Enter no of integer you want to add: \"))\n",
    "for i in range(n):\n",
    "    x = int(input(\"Enter an integer: \"))\n",
    "    list.append(x)\n",
    "    max_value = max(list)\n",
    "print(\"max value in the list is: \",max_value)"
   ]
  },
  {
   "cell_type": "code",
   "execution_count": 1,
   "metadata": {},
   "outputs": [
    {
     "name": "stdout",
     "output_type": "stream",
     "text": [
      "{9, 2, 5}\n"
     ]
    }
   ],
   "source": [
    "#Write a program that creates two lists of integers and then finds the common elements between those two lists. Print the common elements.\n",
    "list1 = [1,2,3,4,5,9]\n",
    "list2 = [2,9,0,5,8]\n",
    "common_element = set(list1).intersection(list2)\n",
    "print(common_element)"
   ]
  },
  {
   "cell_type": "code",
   "execution_count": 3,
   "metadata": {},
   "outputs": [
    {
     "name": "stdout",
     "output_type": "stream",
     "text": [
      "['is', 'am', 'are', 'the']\n"
     ]
    },
    {
     "data": {
      "text/plain": [
       "'the'"
      ]
     },
     "execution_count": 3,
     "metadata": {},
     "output_type": "execute_result"
    }
   ],
   "source": [
    "#Write a program that creates a list of strings and then removes all elements that contain a specific substring. Print the final list.\n",
    "list = ['apple','apendix','addition']\n"
   ]
  }
 ],
 "metadata": {
  "kernelspec": {
   "display_name": "Python 3.11.4 ('base')",
   "language": "python",
   "name": "python3"
  },
  "language_info": {
   "codemirror_mode": {
    "name": "ipython",
    "version": 3
   },
   "file_extension": ".py",
   "mimetype": "text/x-python",
   "name": "python",
   "nbconvert_exporter": "python",
   "pygments_lexer": "ipython3",
   "version": "3.11.4"
  },
  "orig_nbformat": 4,
  "vscode": {
   "interpreter": {
    "hash": "4fd43f647e67c5bac92e28557b42152749fead6d7b9e8c70c84aca8e8e2f23dd"
   }
  }
 },
 "nbformat": 4,
 "nbformat_minor": 2
}
