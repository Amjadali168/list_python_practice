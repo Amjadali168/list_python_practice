{
 "cells": [
  {
   "cell_type": "code",
   "execution_count": null,
   "metadata": {},
   "outputs": [],
   "source": [
    "# Write a program that creates a list of integers and then finds the maximum value in the list. Print the maximum value.\n",
    "list = []\n",
    "n = int(input(\"Enter no of integer you want to add: \"))\n",
    "for i in range(n):\n",
    "    x = int(input(\"Enter an integer: \"))\n",
    "    list.append(x)\n",
    "    max_value = max(list)\n",
    "print(\"max value in the list is: \",max_value)"
   ]
  },
  {
   "cell_type": "code",
   "execution_count": null,
   "metadata": {},
   "outputs": [],
   "source": [
    "#Write a program that creates two lists of integers and then finds the common elements between those two lists. Print the common elements.\n",
    "list1 = [1,2,3,4,5,9]\n",
    "list2 = [2,9,0,5,8]\n",
    "common_element = set(list1).intersection(list2)\n",
    "print(common_element)"
   ]
  },
  {
   "cell_type": "code",
   "execution_count": null,
   "metadata": {},
   "outputs": [],
   "source": [
    "#Write a program that creates a list of strings and then removes all elements that contain a specific substring. Print the final list.\n",
    "list = ['apple','apendix','addition']\n"
   ]
  },
  {
   "cell_type": "code",
   "execution_count": null,
   "metadata": {},
   "outputs": [],
   "source": [
    "#Write a program that creates a list of strings and then finds the longest string in the list. Print the longest string.\n",
    "largest_string = \"\"\n",
    "strings = [\"amjad\",\"attribute\",\"alphabets\",\"anhvfttfdvjgdgfj\"]\n",
    "for string in strings:\n",
    "    if len(string) > len(largest_string):\n",
    "        largest_string = string\n",
    "print(largest_string, len(largest_string))"
   ]
  },
  {
   "cell_type": "code",
   "execution_count": null,
   "metadata": {},
   "outputs": [],
   "source": [
    "#Write a program that creates a list of integers and then finds the sum of all the even numbers in the list. Print the sum.\n",
    "list = []\n",
    "sum = 0\n",
    "n = int(input(\"enter no of element: \"))\n",
    "for i in range(n):\n",
    "    element = int(input(\"enter integers: \"))\n",
    "    if element % 2 == 0:\n",
    "        list.append(element)\n",
    "        sum += element\n",
    "print(\"list of all even number: \", list)\n",
    "print(\"sum of all even number: \",sum)\n"
   ]
  },
  {
   "cell_type": "code",
   "execution_count": null,
   "metadata": {},
   "outputs": [],
   "source": [
    "#Write a program that creates a list of integers and then asks the user to input a position to remove an element from the list. Print the final list.\n",
    "list = []\n",
    "n = int(input(\"enter no of element: \"))\n",
    "for i in range(n):\n",
    "    ele = int(input(\"Enter Elements: \"))\n",
    "    list.append(ele)\n",
    "print(\"current list: \", list)\n",
    "position = int(input(\"enter the position from element to be removed: \"))\n",
    "if position >= 0 and position < n:\n",
    "    removed_element = list.pop(position)\n",
    "    print(\"removed element: \",removed_element)\n",
    "else:\n",
    "    print(\"Invalid Position\")\n",
    "\n",
    "print(list)"
   ]
  },
  {
   "cell_type": "code",
   "execution_count": 4,
   "metadata": {},
   "outputs": [
    {
     "name": "stdout",
     "output_type": "stream",
     "text": [
      "abc\n"
     ]
    }
   ],
   "source": [
    "#Write a program that creates a list of strings and then concatenates all the strings into a single string. Print the final string.\n",
    "my_list = ['a', 'b', 'c']\n",
    "string = ''.join(my_list)\n",
    "print(string)\n"
   ]
  },
  {
   "cell_type": "code",
   "execution_count": null,
   "metadata": {},
   "outputs": [],
   "source": [
    "#Write a program that creates a list of integers and then finds the median value of the list. Print the median.\n",
    "my_list = []\n",
    "num = int(input(\"enter no of element: \"))\n",
    "for i in range(num):\n",
    "    ele = int(input(\"enter elements: \"))\n",
    "    my_list.append(ele)\n",
    "print(\"list: \",my_list)\n",
    "sorted_list = my_list.sort()\n",
    "n = len(my_list)\n",
    "if n % 2 == 1:\n",
    "    median = my_list[n//2]\n",
    "else:\n",
    "    middle1 = my_list[(n // 2) - 1]\n",
    "    middle2 = my_list[n // 2]\n",
    "    median = (middle1 + middle2) / 2\n",
    "print(\"Median:\", median)\n"
   ]
  },
  {
   "cell_type": "code",
   "execution_count": 2,
   "metadata": {},
   "outputs": [
    {
     "name": "stdout",
     "output_type": "stream",
     "text": [
      "['saif', 'ashraf', 'amjad']\n"
     ]
    }
   ],
   "source": [
    "#Write a program that creates a list of strings and then reverses the order of the strings in the list. Print the reversed list.\n",
    "list = ['amjad','ashraf','saif']\n",
    "reversed_string = list[::-1]\n",
    "print(reversed_string)"
   ]
  },
  {
   "cell_type": "code",
   "execution_count": 1,
   "metadata": {},
   "outputs": [
    {
     "name": "stdout",
     "output_type": "stream",
     "text": [
      "35\n",
      "5.833333333333333\n"
     ]
    }
   ],
   "source": [
    "#Write a program that creates a list of integers and then calculates the average of all the numbers in the list. Print the average.\n",
    "my_list = [1,4,6,7,8,9]\n",
    "total_sum = sum(my_list)\n",
    "print(total_sum)\n",
    "average = total_sum / len(my_list)\n",
    "print(average)"
   ]
  },
  {
   "cell_type": "code",
   "execution_count": 3,
   "metadata": {},
   "outputs": [
    {
     "name": "stdout",
     "output_type": "stream",
     "text": [
      "2\n"
     ]
    }
   ],
   "source": [
    "#Write a program that creates a list of integers and then finds the index of a specific element in the list. Print the index.\n",
    "numbers = [1, 2, 3, 4, 5]\n",
    "find_index = int(input(\"enter the number whose index to be find: \"))\n",
    "for i in numbers:\n",
    "    ele = numbers.index(find_index)\n",
    "print(ele)"
   ]
  },
  {
   "cell_type": "code",
   "execution_count": 4,
   "metadata": {},
   "outputs": [
    {
     "name": "stdout",
     "output_type": "stream",
     "text": [
      "['list', 'mac', 'book']\n"
     ]
    }
   ],
   "source": [
    "#Write a program that creates a list of strings and then removes all whitespace characters from each string in the list. Print the final list.\n",
    "my_list = ['li st','ma    c','b  o   o   k']\n",
    "cleaned_list = [s.replace(\" \", \"\") for s in my_list]\n",
    "print(cleaned_list)\n"
   ]
  },
  {
   "cell_type": "code",
   "execution_count": null,
   "metadata": {},
   "outputs": [],
   "source": [
    "#Write a program that creates a list of integers and then sorts the list in descending order. Print the sorted list.\n",
    "# numbers = [12, 45, 9, 18, 36]\n",
    "sorted_list = sorted(numbers, reverse=True)\n",
    "print(sorted_list)\n"
   ]
  },
  {
   "cell_type": "code",
   "execution_count": 1,
   "metadata": {},
   "outputs": [
    {
     "name": "stdout",
     "output_type": "stream",
     "text": [
      "100\n"
     ]
    }
   ],
   "source": [
    "x = 0\n",
    "while (x< 100):\n",
    "    x += 2\n",
    "print(x)"
   ]
  },
  {
   "cell_type": "code",
   "execution_count": 2,
   "metadata": {},
   "outputs": [
    {
     "name": "stdout",
     "output_type": "stream",
     "text": [
      "         5\n"
     ]
    }
   ],
   "source": [
    "a = 5\n",
    "print(f'{a: 10}')"
   ]
  },
  {
   "cell_type": "code",
   "execution_count": 3,
   "metadata": {},
   "outputs": [
    {
     "name": "stdout",
     "output_type": "stream",
     "text": [
      "3\n",
      "4\n"
     ]
    }
   ],
   "source": [
    "x = 2\n",
    "for i in range(x):\n",
    "    x += 1\n",
    "    print(x)"
   ]
  },
  {
   "cell_type": "code",
   "execution_count": null,
   "metadata": {},
   "outputs": [],
   "source": [
    "for i in range(2.0):\n",
    "    print(i)"
   ]
  },
  {
   "cell_type": "code",
   "execution_count": 7,
   "metadata": {},
   "outputs": [
    {
     "name": "stdout",
     "output_type": "stream",
     "text": [
      "1\n",
      "2\n"
     ]
    }
   ],
   "source": [
    "i = 1\n",
    "while True:\n",
    "    if i % 3 == 0:\n",
    "        break\n",
    "    print(i)\n",
    "\n",
    "    i += 1"
   ]
  },
  {
   "cell_type": "code",
   "execution_count": 8,
   "metadata": {},
   "outputs": [
    {
     "name": "stdout",
     "output_type": "stream",
     "text": [
      "0\n",
      "1\n",
      "2\n"
     ]
    }
   ],
   "source": [
    "d = {0:'a', 1:'b', 2:'c'}\n",
    "for i in d:\n",
    "    print(i)"
   ]
  },
  {
   "cell_type": "code",
   "execution_count": 9,
   "metadata": {},
   "outputs": [
    {
     "name": "stdout",
     "output_type": "stream",
     "text": [
      "A\n",
      "B\n",
      "C\n",
      "D\n"
     ]
    }
   ],
   "source": [
    "x = 'abcd'\n",
    "for i in x:\n",
    "    print(i.upper())"
   ]
  },
  {
   "cell_type": "code",
   "execution_count": null,
   "metadata": {},
   "outputs": [],
   "source": [
    "x = 'abcdef'\n",
    "while i in x:\n",
    "    print(i, end=\" \")"
   ]
  },
  {
   "cell_type": "code",
   "execution_count": null,
   "metadata": {},
   "outputs": [],
   "source": [
    "num = [12,34,1,10]\n",
    "sorted_num = sorted(num)\n",
    "print(sorted_num)\n",
    "sorted_num[::-1]"
   ]
  },
  {
   "cell_type": "code",
   "execution_count": 16,
   "metadata": {},
   "outputs": [
    {
     "name": "stdout",
     "output_type": "stream",
     "text": [
      "[5, 4, 3, 2, 1]\n"
     ]
    }
   ],
   "source": [
    "# Write a program that creates a list of integers and then asks the user to input a value to add to the list. Add the value to the beginning of the list and print the final list.\n",
    "my_list = []\n",
    "n = int(input(\"enter how many value you want to add: \"))\n",
    "for i in range(n):\n",
    "    value = int(input(\"enter integer: \"))\n",
    "    my_list.insert(0, value)\n",
    "print(my_list)"
   ]
  },
  {
   "cell_type": "code",
   "execution_count": null,
   "metadata": {},
   "outputs": [],
   "source": []
  }
 ],
 "metadata": {
  "kernelspec": {
   "display_name": "Python 3.11.4 ('base')",
   "language": "python",
   "name": "python3"
  },
  "language_info": {
   "codemirror_mode": {
    "name": "ipython",
    "version": 3
   },
   "file_extension": ".py",
   "mimetype": "text/x-python",
   "name": "python",
   "nbconvert_exporter": "python",
   "pygments_lexer": "ipython3",
   "version": "3.11.4"
  },
  "orig_nbformat": 4,
  "vscode": {
   "interpreter": {
    "hash": "4fd43f647e67c5bac92e28557b42152749fead6d7b9e8c70c84aca8e8e2f23dd"
   }
  }
 },
 "nbformat": 4,
 "nbformat_minor": 2
}
